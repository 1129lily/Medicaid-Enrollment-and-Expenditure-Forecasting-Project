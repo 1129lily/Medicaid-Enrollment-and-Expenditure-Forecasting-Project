{
 "cells": [
  {
   "cell_type": "code",
   "execution_count": 14,
   "id": "86d4830d",
   "metadata": {},
   "outputs": [],
   "source": [
    "import pandas as pd\n",
    "import numpy as np\n",
    "import os\n",
    "import re"
   ]
  },
  {
   "cell_type": "markdown",
   "id": "887b2f19",
   "metadata": {},
   "source": [
    "# Expenditure"
   ]
  },
  {
   "cell_type": "code",
   "execution_count": 15,
   "id": "039868b7",
   "metadata": {},
   "outputs": [],
   "source": [
    "us_states = {\n",
    "    'AL': 'ALABAMA',    'AK': 'ALASKA',    'AZ': 'ARIZONA',    'AR': 'ARKANSAS',    'CA': 'CALIFORNIA',\n",
    "    'CO': 'COLORADO',    'CT': 'CONNECTICUT',    'DE': 'DELAWARE',    'FL': 'FLORIDA',    'GA': 'GEORGIA',\n",
    "    'HI': 'HAWAII',    'ID': 'IDAHO',    'IL': 'ILLINOIS',    'IN': 'INDIANA',    'IA': 'IOWA',\n",
    "    'KS': 'KANSAS',    'KY': 'KENTUCKY',    'LA': 'LOUISIANA',    'ME': 'MAINE',    'MD': 'MARYLAND',\n",
    "    'MA': 'MASSACHUSETTS',    'MI': 'MICHIGAN',    'MN': 'MINNESOTA',    'MS': 'MISSISSIPPI',    'MO': 'MISSOURI',\n",
    "    'MT': 'MONTANA',    'NE': 'NEBRASKA',    'NV': 'NEVADA',    'NH': 'NEW HAMPSHIRE',    'NJ': 'NEW JERSEY',\n",
    "    'NM': 'NEW MEXICO',    'NY': 'NEW YORK',    'NC': 'NORTH CAROLINA',    'ND': 'NORTH DAKOTA',    'OH': 'OHIO',\n",
    "    'OK': 'OKLAHOMA',    'OR': 'OREGON',    'PA': 'PENNSYLVANIA',    'RI': 'RHODE ISLAND',    'SC': 'SOUTH CAROLINA',\n",
    "    'SD': 'SOUTH DAKOTA',    'TN': 'TENNESSEE',    'TX': 'TEXAS',    'UT': 'UTAH',    'VT': 'VERMONT',\n",
    "    'VA': 'VIRGINIA',    'WA': 'WASHINGTON',    'WV': 'WEST VIRGINIA',    'WI': 'WISCONSIN',    'WY': 'WYOMING'\n",
    "}\n"
   ]
  },
  {
   "cell_type": "code",
   "execution_count": 16,
   "id": "a1b38a59",
   "metadata": {},
   "outputs": [],
   "source": [
    "folder_path = \"./mfcu_charts\"\n",
    "target_data = \"Total Medicaid Expenditures\"\n",
    "target_state = \"MA\" # Massachusetts\n",
    "\n",
    "if target_state not in us_states:\n",
    "    raise ValueError(f\"Invalid target state: {target_state}. Must be one of {list(us_states.keys())}.\")"
   ]
  },
  {
   "cell_type": "code",
   "execution_count": 17,
   "id": "ec8edd91",
   "metadata": {},
   "outputs": [],
   "source": [
    "results = []\n",
    "\n",
    "# state aliases for matching\n",
    "state_aliases = {target_state,us_states[target_state]}\n",
    "\n",
    "for filename in os.listdir(folder_path):\n",
    "    if filename.endswith(\".csv\") and filename.startswith(\"fy\"):\n",
    "        file_path = os.path.join(folder_path, filename)\n",
    "        \n",
    "        # extract year from filename\n",
    "        year_match = re.search(r\"fy(\\d{4})\", filename)\n",
    "        if not year_match:\n",
    "            continue\n",
    "        year = int(year_match.group(1))\n",
    "\n",
    "        # load csv file\n",
    "        df = pd.read_csv(file_path, dtype=str)  # to avoid dtype issues\n",
    "        \n",
    "        # column name normalization\n",
    "        df.columns = [col.strip().lower() for col in df.columns]\n",
    "\n",
    "        # find the state column\n",
    "        state_col_candidates = df.columns[df.columns.str.contains(\"state|location|jurisdiction\", case=False)]\n",
    "        if len(state_col_candidates) == 0:\n",
    "            state_col = df.columns[0]  # fallback to the first column if no candidates found\n",
    "        else:\n",
    "            state_col = state_col_candidates[0]\n",
    "\n",
    "        # match the target state\n",
    "        match_row = df[df[state_col].str.strip().str.upper().isin(state_aliases)]\n",
    "\n",
    "        if not match_row.empty:\n",
    "            # find the target data column\n",
    "            col_candidates = [col for col in df.columns if target_data.lower() == col.lower()]\n",
    "            if col_candidates:\n",
    "                value = match_row.iloc[0][col_candidates[0]]\n",
    "                results.append({\"Year\": year, target_data: value})\n",
    "            else:\n",
    "                print(f\"⚠️ file {filename} does not contain {target_data}\")\n",
    "        else:\n",
    "            print(f\"⚠️ file {filename} doses not contain data for {target_state}\")\n",
    "\n"
   ]
  },
  {
   "cell_type": "code",
   "execution_count": 18,
   "id": "638e81d9",
   "metadata": {},
   "outputs": [
    {
     "name": "stderr",
     "output_type": "stream",
     "text": [
      "<>:5: SyntaxWarning: invalid escape sequence '\\$'\n",
      "<>:5: SyntaxWarning: invalid escape sequence '\\$'\n",
      "C:\\Users\\木木小呆猪\\AppData\\Local\\Temp\\ipykernel_19400\\3028095143.py:5: SyntaxWarning: invalid escape sequence '\\$'\n",
      "  final_df[target_data] = final_df[target_data].replace({'\\$': '', ',': ''}, regex=True)\n"
     ]
    }
   ],
   "source": [
    "# Create a DataFrame from the results\n",
    "if not results:\n",
    "    raise ValueError(f\"No data found for {target_state} in the specified files.\")\n",
    "final_df = pd.DataFrame(results).sort_values(\"Year\")\n",
    "final_df[target_data] = final_df[target_data].replace({'\\$': '', ',': ''}, regex=True)\n",
    "final_df[target_data] = pd.to_numeric(final_df[target_data], errors='coerce')"
   ]
  },
  {
   "cell_type": "code",
   "execution_count": 19,
   "id": "8d4bafed",
   "metadata": {},
   "outputs": [],
   "source": [
    "final_df.rename(columns={\"Year\": \"ds\"}, inplace=True)\n",
    "final_df['ds'] = pd.to_datetime(final_df['ds'], format='%Y')\n",
    "final_df.rename(columns={target_data: 'y'}, inplace=True)"
   ]
  },
  {
   "cell_type": "code",
   "execution_count": 20,
   "id": "dff44cff",
   "metadata": {},
   "outputs": [],
   "source": [
    "final_df.to_csv(f\"{target_state}_medicaid_expenditures.csv\", index=False)"
   ]
  },
  {
   "cell_type": "markdown",
   "id": "eb561ec7",
   "metadata": {},
   "source": [
    "# Enrollment\n",
    "Data Source: https://data.medicaid.gov/dataset/6165f45b-ca93-5bb5-9d06-db29c692a360/data"
   ]
  },
  {
   "cell_type": "code",
   "execution_count": 21,
   "id": "40419390",
   "metadata": {},
   "outputs": [],
   "source": [
    "df_enrollment = pd.read_csv(\"Medicaid and CHIP.csv\")"
   ]
  },
  {
   "cell_type": "code",
   "execution_count": 22,
   "id": "5448ddfe",
   "metadata": {},
   "outputs": [],
   "source": [
    "target_data1 = \"Total Medicaid Enrollment\"\n",
    "target_state1 = \"MA\" # Massachusetts\n",
    "\n",
    "if target_state1 not in us_states:\n",
    "    raise ValueError(f\"Invalid target state: {target_state1}. Must be one of {list(us_states.keys())}.\")\n",
    "\n",
    "if target_data1 not in df_enrollment.columns:\n",
    "    raise ValueError(f\"Invalid target data: {target_data1}. Must be one of {df_enrollment.columns.tolist()}.\")"
   ]
  },
  {
   "cell_type": "code",
   "execution_count": 23,
   "id": "a08ed5e2",
   "metadata": {},
   "outputs": [],
   "source": [
    "df_need = df_enrollment[['State Abbreviation','Reporting Period',target_data1]].copy()\n",
    "df_need.query(\"`State Abbreviation` == @target_state1\", inplace=True)\n",
    "df_need['Reporting Period'] = pd.to_datetime(df_need['Reporting Period'], format='%Y%m')\n",
    "df_need.dropna(subset=['Reporting Period', target_data1], inplace=True)\n",
    "df_need.rename(columns={'Reporting Period': 'ds', target_data1: 'y'}, inplace=True)\n",
    "df_need.drop(columns=['State Abbreviation'], inplace=True)"
   ]
  },
  {
   "cell_type": "code",
   "execution_count": 24,
   "id": "db481ba1",
   "metadata": {},
   "outputs": [],
   "source": [
    "df_need.to_csv(f\"{target_state1}_medicaid_enrollment.csv\", index=False)"
   ]
  }
 ],
 "metadata": {
  "kernelspec": {
   "display_name": "base",
   "language": "python",
   "name": "python3"
  },
  "language_info": {
   "codemirror_mode": {
    "name": "ipython",
    "version": 3
   },
   "file_extension": ".py",
   "mimetype": "text/x-python",
   "name": "python",
   "nbconvert_exporter": "python",
   "pygments_lexer": "ipython3",
   "version": "3.12.3"
  }
 },
 "nbformat": 4,
 "nbformat_minor": 5
}
