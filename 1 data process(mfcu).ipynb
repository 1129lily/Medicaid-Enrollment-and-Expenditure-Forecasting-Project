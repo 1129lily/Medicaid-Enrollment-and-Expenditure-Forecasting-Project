{
 "cells": [
  {
   "cell_type": "code",
   "execution_count": null,
   "id": "1f1b0767",
   "metadata": {},
   "outputs": [],
   "source": [
    "import os\n",
    "import requests\n",
    "from bs4 import BeautifulSoup\n",
    "from urllib.parse import urljoin\n",
    "import pandas as pd\n",
    "import pdfplumber"
   ]
  },
  {
   "cell_type": "markdown",
   "id": "ed4f77b7",
   "metadata": {},
   "source": [
    "# 1 Data download"
   ]
  },
  {
   "cell_type": "code",
   "execution_count": 3,
   "id": "3ceeed16",
   "metadata": {},
   "outputs": [],
   "source": [
    "base_url = \"https://oig.hhs.gov/fraud/medicaid-fraud-control-units-mfcu/\"\n",
    "download_dir = \"mfcu_charts\"\n",
    "os.makedirs(download_dir, exist_ok=True)"
   ]
  },
  {
   "cell_type": "code",
   "execution_count": 12,
   "id": "b2e15acc",
   "metadata": {},
   "outputs": [],
   "source": [
    "response = requests.get(base_url)\n",
    "soup = BeautifulSoup(response.content, \"lxml\")"
   ]
  },
  {
   "cell_type": "code",
   "execution_count": 13,
   "id": "870d416f",
   "metadata": {},
   "outputs": [
    {
     "name": "stdout",
     "output_type": "stream",
     "text": [
      "https://oig.hhs.gov/documents/evaluation/10223/FY2024%20Statistical%20Chart_Table_protected.xlsx\n",
      "✅ Already Download: FY2024%20Statistical%20Chart_Table_protected.xlsx\n",
      "https://oig.hhs.gov/documents/evaluation/10392/fy2023-statistical-chart.pdf\n",
      "✅ Already Download: fy2023-statistical-chart.pdf\n",
      "https://oig.hhs.gov/documents/evaluation/10393/fy2022-statistical-chart.pdf\n",
      "✅ Already Download: fy2022-statistical-chart.pdf\n",
      "https://oig.hhs.gov/documents/evaluation/10394/fy2021-statistical-chart.pdf\n",
      "✅ Already Download: fy2021-statistical-chart.pdf\n",
      "https://oig.hhs.gov/documents/evaluation/10395/fy2020-statistical-chart.pdf\n",
      "✅ Already Download: fy2020-statistical-chart.pdf\n",
      "https://oig.hhs.gov/documents/evaluation/10396/fy2019-statistical-chart.pdf\n",
      "✅ Already Download: fy2019-statistical-chart.pdf\n",
      "https://oig.hhs.gov/documents/evaluation/10397/fy2018-statistical-chart.pdf\n",
      "✅ Already Download: fy2018-statistical-chart.pdf\n",
      "https://oig.hhs.gov/documents/evaluation/10398/fy2017-statistical-chart.pdf\n",
      "✅ Already Download: fy2017-statistical-chart.pdf\n",
      "https://oig.hhs.gov/documents/evaluation/10399/fy2016-statistical-chart.pdf\n",
      "✅ Already Download: fy2016-statistical-chart.pdf\n",
      "https://oig.hhs.gov/documents/evaluation/10400/fy2015-statistical-chart.pdf\n",
      "✅ Already Download: fy2015-statistical-chart.pdf\n",
      "https://oig.hhs.gov/documents/evaluation/10401/fy2014-statistical-chart.pdf\n",
      "✅ Already Download: fy2014-statistical-chart.pdf\n",
      "https://oig.hhs.gov/documents/evaluation/10402/fy2013-statistical-chart.pdf\n",
      "✅ Already Download: fy2013-statistical-chart.pdf\n",
      "https://oig.hhs.gov/documents/evaluation/10403/fy2012-statistical-chart.pdf\n",
      "✅ Already Download: fy2012-statistical-chart.pdf\n",
      "https://oig.hhs.gov/documents/evaluation/10404/fy2011-statistical-chart.pdf\n",
      "✅ Already Download: fy2011-statistical-chart.pdf\n"
     ]
    }
   ],
   "source": [
    "links = []\n",
    "for link in soup.find_all(\"a\", href=True):\n",
    "    href = link[\"href\"]\n",
    "    text = link.get_text(strip=True)\n",
    "\n",
    "    if \"fy\" in text.lower() and \"chart\" in text.lower():\n",
    "        file_url = urljoin(base_url, href)\n",
    "        file_name = file_url.split(\"/\")[-1]\n",
    "        file_path = os.path.join(download_dir, file_name)\n",
    "        print(file_url)\n",
    "        links.append((file_url, file_path))\n",
    "\n",
    "        try:\n",
    "            file_data = requests.get(file_url)\n",
    "            with open(file_path, \"wb\") as f:\n",
    "                f.write(file_data.content)\n",
    "            print(f\"✅ Already Download: {file_name}\")\n",
    "        except Exception as e:\n",
    "            print(f\"❌ Failed: {file_url},Error: {e}\")"
   ]
  },
  {
   "cell_type": "markdown",
   "id": "acd6c47f",
   "metadata": {},
   "source": [
    "# Format transformation"
   ]
  },
  {
   "cell_type": "markdown",
   "id": "e78c458d",
   "metadata": {},
   "source": [
    "### html -> csv"
   ]
  },
  {
   "cell_type": "code",
   "execution_count": null,
   "id": "bdd34f19",
   "metadata": {},
   "outputs": [],
   "source": [
    "for filename in os.listdir(download_dir):\n",
    "    if filename.endswith(\".htm\") or filename.endswith(\".html\"):\n",
    "        file_path = os.path.join(download_dir, filename)\n",
    "        with open(file_path, \"r\", encoding=\"utf-8\") as f:\n",
    "            soup = BeautifulSoup(f, \"lxml\")\n",
    "        \n",
    "        # find each table in the HTML file\n",
    "        tables = soup.find_all(\"table\")\n",
    "        for i, table in enumerate(tables):\n",
    "            rows = []\n",
    "            for row in table.find_all('tr'):\n",
    "                cols = row.find_all(['td', 'th'])\n",
    "                cols_text = [col.get_text(strip=True) for col in cols]\n",
    "                rows.append(cols_text)\n",
    "            \n",
    "            df = pd.DataFrame(rows)\n",
    "            \n",
    "            df.dropna(how='all', inplace=True)\n",
    "            df.dropna(axis=1, how='all', inplace=True)\n",
    "            \n",
    "            df.to_csv(f'{filename[:-4]}_table{i+1}.csv', index=False, header=False)\n",
    "            print(f\"✅ Table {i+1} from {filename} saved as CSV.\")\n",
    "            os.remove(file_path)  "
   ]
  },
  {
   "cell_type": "markdown",
   "id": "f85732d9",
   "metadata": {},
   "source": [
    "### xlsx -> csv"
   ]
  },
  {
   "cell_type": "code",
   "execution_count": 6,
   "id": "3b9458da",
   "metadata": {},
   "outputs": [
    {
     "name": "stdout",
     "output_type": "stream",
     "text": [
      "✅ Converted FY2024%20Statistical%20Chart_Table_protected.xlsx to CSV: mfcu_charts\\FY2024_20Statistical_20Chart_Table_protected.csv\n"
     ]
    }
   ],
   "source": [
    "for filename in os.listdir(download_dir):\n",
    "    if filename.endswith(\".xlsx\") or filename.endswith(\".xls\"):\n",
    "        file_path = os.path.join(download_dir, filename)\n",
    "        df = pd.read_excel(file_path, engine='openpyxl')\n",
    "        \n",
    "        # Save as CSV\n",
    "        csv_file_path = file_path.replace('.xlsx', '.csv')\n",
    "        csv_file_path = csv_file_path.replace('.xls', '.csv')\n",
    "        csv_file_path = csv_file_path.replace('%', '_')\n",
    "        csv_file_path = csv_file_path.lower()\n",
    "        \n",
    "        df.to_csv(csv_file_path, index=False)\n",
    "        print(f\"✅ Converted {filename} to CSV: {csv_file_path}\")\n",
    "        \n",
    "        # Remove the original xlsx file\n",
    "        os.remove(file_path)"
   ]
  },
  {
   "cell_type": "markdown",
   "id": "c5e4ee9c",
   "metadata": {},
   "source": [
    "## pdf -> csv"
   ]
  },
  {
   "cell_type": "code",
   "execution_count": 21,
   "id": "9e8b4bde",
   "metadata": {},
   "outputs": [
    {
     "name": "stderr",
     "output_type": "stream",
     "text": [
      "C:\\Users\\木木小呆猪\\AppData\\Local\\Temp\\ipykernel_23184\\1362482563.py:19: FutureWarning: DataFrame.applymap has been deprecated. Use DataFrame.map instead.\n",
      "  df_upper = df_all.fillna('').astype(str).applymap(lambda x: x.upper())\n"
     ]
    },
    {
     "name": "stdout",
     "output_type": "stream",
     "text": [
      "✅ Converted fy2015-statistical-chart.pdf to CSV: mfcu_charts\\fy2015-statistical-chart.csv\n",
      "✅ Converted fy2016-statistical-chart.pdf to CSV: mfcu_charts\\fy2016-statistical-chart.csv\n"
     ]
    },
    {
     "name": "stderr",
     "output_type": "stream",
     "text": [
      "C:\\Users\\木木小呆猪\\AppData\\Local\\Temp\\ipykernel_23184\\1362482563.py:19: FutureWarning: DataFrame.applymap has been deprecated. Use DataFrame.map instead.\n",
      "  df_upper = df_all.fillna('').astype(str).applymap(lambda x: x.upper())\n",
      "C:\\Users\\木木小呆猪\\AppData\\Local\\Temp\\ipykernel_23184\\1362482563.py:19: FutureWarning: DataFrame.applymap has been deprecated. Use DataFrame.map instead.\n",
      "  df_upper = df_all.fillna('').astype(str).applymap(lambda x: x.upper())\n"
     ]
    },
    {
     "name": "stdout",
     "output_type": "stream",
     "text": [
      "✅ Converted fy2017-statistical-chart.pdf to CSV: mfcu_charts\\fy2017-statistical-chart.csv\n"
     ]
    },
    {
     "name": "stderr",
     "output_type": "stream",
     "text": [
      "C:\\Users\\木木小呆猪\\AppData\\Local\\Temp\\ipykernel_23184\\1362482563.py:19: FutureWarning: DataFrame.applymap has been deprecated. Use DataFrame.map instead.\n",
      "  df_upper = df_all.fillna('').astype(str).applymap(lambda x: x.upper())\n"
     ]
    },
    {
     "name": "stdout",
     "output_type": "stream",
     "text": [
      "✅ Converted fy2018-statistical-chart.pdf to CSV: mfcu_charts\\fy2018-statistical-chart.csv\n"
     ]
    },
    {
     "name": "stderr",
     "output_type": "stream",
     "text": [
      "C:\\Users\\木木小呆猪\\AppData\\Local\\Temp\\ipykernel_23184\\1362482563.py:19: FutureWarning: DataFrame.applymap has been deprecated. Use DataFrame.map instead.\n",
      "  df_upper = df_all.fillna('').astype(str).applymap(lambda x: x.upper())\n"
     ]
    },
    {
     "name": "stdout",
     "output_type": "stream",
     "text": [
      "✅ Converted fy2019-statistical-chart.pdf to CSV: mfcu_charts\\fy2019-statistical-chart.csv\n"
     ]
    },
    {
     "name": "stderr",
     "output_type": "stream",
     "text": [
      "C:\\Users\\木木小呆猪\\AppData\\Local\\Temp\\ipykernel_23184\\1362482563.py:19: FutureWarning: DataFrame.applymap has been deprecated. Use DataFrame.map instead.\n",
      "  df_upper = df_all.fillna('').astype(str).applymap(lambda x: x.upper())\n"
     ]
    },
    {
     "name": "stdout",
     "output_type": "stream",
     "text": [
      "✅ Converted fy2020-statistical-chart.pdf to CSV: mfcu_charts\\fy2020-statistical-chart.csv\n"
     ]
    },
    {
     "name": "stderr",
     "output_type": "stream",
     "text": [
      "C:\\Users\\木木小呆猪\\AppData\\Local\\Temp\\ipykernel_23184\\1362482563.py:19: FutureWarning: DataFrame.applymap has been deprecated. Use DataFrame.map instead.\n",
      "  df_upper = df_all.fillna('').astype(str).applymap(lambda x: x.upper())\n"
     ]
    },
    {
     "name": "stdout",
     "output_type": "stream",
     "text": [
      "✅ Converted fy2021-statistical-chart.pdf to CSV: mfcu_charts\\fy2021-statistical-chart.csv\n"
     ]
    },
    {
     "name": "stderr",
     "output_type": "stream",
     "text": [
      "C:\\Users\\木木小呆猪\\AppData\\Local\\Temp\\ipykernel_23184\\1362482563.py:19: FutureWarning: DataFrame.applymap has been deprecated. Use DataFrame.map instead.\n",
      "  df_upper = df_all.fillna('').astype(str).applymap(lambda x: x.upper())\n"
     ]
    },
    {
     "name": "stdout",
     "output_type": "stream",
     "text": [
      "✅ Converted fy2022-statistical-chart.pdf to CSV: mfcu_charts\\fy2022-statistical-chart.csv\n",
      "✅ Converted fy2023-statistical-chart.pdf to CSV: mfcu_charts\\fy2023-statistical-chart.csv\n"
     ]
    },
    {
     "name": "stderr",
     "output_type": "stream",
     "text": [
      "C:\\Users\\木木小呆猪\\AppData\\Local\\Temp\\ipykernel_23184\\1362482563.py:19: FutureWarning: DataFrame.applymap has been deprecated. Use DataFrame.map instead.\n",
      "  df_upper = df_all.fillna('').astype(str).applymap(lambda x: x.upper())\n"
     ]
    }
   ],
   "source": [
    "\n",
    "custom_header_17 = pd.read_csv(\"mfcu_header_17.csv\").columns.tolist()\n",
    "custom_header_18 = pd.read_csv(\"mfcu_header_18.csv\").columns.tolist()\n",
    "\n",
    "for filename in os.listdir(download_dir):\n",
    "    if filename.endswith(\".pdf\"):\n",
    "        pdf_path = os.path.join(download_dir, filename)\n",
    "        df_all = pd.DataFrame()\n",
    "        with pdfplumber.open(pdf_path) as pdf:\n",
    "            for i, page in enumerate(pdf.pages):\n",
    "                tables = page.extract_tables()\n",
    "                for j, table in enumerate(tables):\n",
    "                    df = pd.DataFrame(table)\n",
    "                    if df.empty:\n",
    "                        df_all = df\n",
    "                    else:\n",
    "                        df_all = pd.concat([df_all, df], ignore_index=True)\n",
    "\n",
    "        #step 1: find ALABAMA\n",
    "        df_upper = df_all.fillna('').astype(str).applymap(lambda x: x.upper())\n",
    "\n",
    "        # find row and column where \"ALABAMA\" appears\n",
    "        matches = (df_upper == \"ALABAMA\")\n",
    "\n",
    "        if matches.any().any():\n",
    "            first_row, first_col = matches.stack()[matches.stack()].index[0]\n",
    "        else:\n",
    "            raise ValueError(\"cannot find Alabama\")\n",
    "        \n",
    "        df_clean = df_all.iloc[first_row:, first_col:].reset_index(drop=True)\n",
    "\n",
    "        # step 2: replace header\n",
    "\n",
    "        ## check if custom header matches the number of columns\n",
    "        if len(df_clean) == 17:\n",
    "            df_clean.columns = custom_header_17\n",
    "        elif len(df_clean) == 18:\n",
    "            df_clean.columns = custom_header_18\n",
    "        else:\n",
    "            raise ValueError(f\"❌ number of columns for Header and data {df_clean.shape[1]} are not equal. Please check your header file.\")\n",
    "\n",
    "        # step 3: save to csv\n",
    "        csv_file_path = pdf_path.replace('.pdf', '.csv')\n",
    "        df_clean.to_csv(csv_file_path, index=False)\n",
    "                        \n",
    "        print(f\"✅ Converted {filename} to CSV: {csv_file_path}\")\n",
    "        # Remove the original PDF file\n",
    "        os.remove(pdf_path)"
   ]
  }
 ],
 "metadata": {
  "kernelspec": {
   "display_name": "base",
   "language": "python",
   "name": "python3"
  },
  "language_info": {
   "codemirror_mode": {
    "name": "ipython",
    "version": 3
   },
   "file_extension": ".py",
   "mimetype": "text/x-python",
   "name": "python",
   "nbconvert_exporter": "python",
   "pygments_lexer": "ipython3",
   "version": "3.12.3"
  }
 },
 "nbformat": 4,
 "nbformat_minor": 5
}
